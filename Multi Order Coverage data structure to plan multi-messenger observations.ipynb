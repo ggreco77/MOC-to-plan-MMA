{
 "cells": [
  {
   "cell_type": "markdown",
   "id": "7650a193",
   "metadata": {},
   "source": [
    "# Multi Order Coverage data structure to plan multi-messenger observations\n",
    "\n",
    "The tutorial is associated to the article **[Multi Order Coverage data structure to plan\n",
    "multi-messenger observations]()** under review from **[Astronomy and Computing](https://www.journals.elsevier.com/astronomy-and-computing)**.\n",
    "\n",
    "### 1. Testing and evaluating algorithm\n",
    "\n",
    "We show the essential steps to delimit portions of a sky region, encoding with a MOC (Multi Order Coverage) data structure, that are observable from a speciﬁc astronomical site within a ﬁxed time interval and a deﬁned range of airmass values. \n",
    "For the first example, we build an elementary MOC and, then, we describe the essential algorithm and perform basic tests.\n",
    "\n",
    "The tutorial is tested in Python 3.8.5 with the module versions: [mocpy 0.8.5](https://cds-astro.github.io/mocpy/#), [cdshealpix 0.6.0](https://cds-astro.github.io/cds-healpix-python/), [astropy 4.3.1](https://pypi.org/project/astropy/) and [astroplan 0.8](https://pypi.org/project/astroplan/).\n",
    "\n"
   ]
  },
  {
   "cell_type": "code",
   "execution_count": null,
   "id": "efe9627f",
   "metadata": {},
   "outputs": [],
   "source": [
    "import json\n",
    "from datetime import datetime , timedelta\n",
    "import numpy as np\n",
    "\n",
    "from mocpy import MOC, STMOC\n",
    "from cdshealpix import healpix_to_skycoord\n",
    "\n",
    "import astropy.units as u\n",
    "from astropy.time import Time\n",
    "from astropy.coordinates import SkyCoord, EarthLocation, AltAz\n",
    "from astropy.table import QTable\n",
    "\n",
    "from astroplan import Observer\n",
    "\n",
    "from astropy.samp import SAMPIntegratedClient"
   ]
  },
  {
   "cell_type": "markdown",
   "id": "4eaae8ad",
   "metadata": {},
   "source": [
    "Firstly, we create a MOC region with the HEALPix index = 652 at order = 4 applying the method [from_healpix_cells](https://cds-astro.github.io/mocpy/stubs/mocpy.MOC.html#mocpy.MOC.from_healpix_cells) from mocpy."
   ]
  },
  {
   "cell_type": "code",
   "execution_count": null,
   "id": "09dba0a8",
   "metadata": {},
   "outputs": [],
   "source": [
    "%time\n",
    "ipix = np.array([652], dtype='uint64')\n",
    "depth = np.array([4], dtype='uint8')\n",
    "\n",
    "moc_test = MOC.from_healpix_cells(ipix, depth)"
   ]
  },
  {
   "cell_type": "markdown",
   "id": "5d344065",
   "metadata": {},
   "source": [
    "Then, we write the MOC region in an external file named **TEST.fits** serialized in a FITS format. **Figure 1** shows the HEALPix grid at the order = 4. In red, the created MOC region **TEST.fits** is depicted."
   ]
  },
  {
   "cell_type": "code",
   "execution_count": null,
   "id": "508c4127",
   "metadata": {},
   "outputs": [],
   "source": [
    "%time\n",
    "moc_test.write(\"TEST.fits\", format='fits', overwrite=True)"
   ]
  },
  {
   "cell_type": "code",
   "execution_count": null,
   "id": "43e285f7",
   "metadata": {},
   "outputs": [],
   "source": [
    "from IPython import display\n",
    "display.Image(\"https://raw.githubusercontent.com/ggreco77/Multi-Order-Coverage-data-structure-to-plan-multi-messenger-observations/main/plots/Fig1.jpg\")"
   ]
  },
  {
   "cell_type": "markdown",
   "id": "e881b50e",
   "metadata": {},
   "source": [
    "**Figure 1.** HEALPix grid at order = 4. In red, the MOC region with HEALPix index = 652 created for the test."
   ]
  },
  {
   "cell_type": "markdown",
   "id": "a30af252",
   "metadata": {},
   "source": [
    "Now, we read the MOC file **TEST.fits** and we find the MOC order: the depth of the smallest HEALPix cells. Of course, we will find an order = 4 as set in our MOC creation."
   ]
  },
  {
   "cell_type": "code",
   "execution_count": null,
   "id": "caf2f8bc",
   "metadata": {},
   "outputs": [],
   "source": [
    "%time\n",
    "# Read  MOC map.\n",
    "moc = MOC.from_fits(\"TEST.fits\")\n",
    "\n",
    "# Find MOC order\n",
    "moc_order = moc.max_order\n",
    "print('moc_order =', moc_order)"
   ]
  },
  {
   "cell_type": "markdown",
   "id": "09952a59",
   "metadata": {},
   "source": [
    "Here, we serialize the MOC from fits to json/dictionary with the keys and values representing the orders and the pixel indices, respectively. Of course, in our case we will find a dictionary with key = 4 and value = 652, both data used in the original MOC creation."
   ]
  },
  {
   "cell_type": "code",
   "execution_count": null,
   "id": "fff1dee9",
   "metadata": {},
   "outputs": [],
   "source": [
    "%time\n",
    "# Serialize the MOC from fits to json/dict.\n",
    "moc_json = moc.serialize(format = \"json\")\n",
    "moc_json"
   ]
  },
  {
   "cell_type": "markdown",
   "id": "8d3386c0",
   "metadata": {},
   "source": [
    "Next, we want to increase the MOC order from 4 to 5 and to calculate the associated HEALPix indexes at that order. MOC uses the [NESTED](https://healpix.jpl.nasa.gov/html/intronode4.htm) numbering scheme and, thus, each spatial MOC cell can be\n",
    "stored as one single  interval ranging from $[npix \\times 4^{(max\\_order - order)}]$ to \n",
    "$[(npix+1) \\times 4^{(max\\_order - order)}-1] $.\n",
    "\n",
    "#### **You need to set a new MOC order greater than or equal to the order defined in the original MOC**. "
   ]
  },
  {
   "cell_type": "code",
   "execution_count": null,
   "id": "101bc4f0",
   "metadata": {},
   "outputs": [],
   "source": [
    "# Set a new MOC order: new MOC order >= original MOC order.\n",
    "new_order = 5"
   ]
  },
  {
   "cell_type": "code",
   "execution_count": null,
   "id": "d0e51aa3",
   "metadata": {},
   "outputs": [],
   "source": [
    "%time\n",
    "# Init. a list of HEALPix indices.\n",
    "healpix_indices = []\n",
    "\n",
    "# Read MOC JSON file.\n",
    "for key, value in moc_json.items():\n",
    "    order = int(key)\n",
    "    \n",
    "    # Flatten cells.\n",
    "    for npix in value:\n",
    "        first_index = npix*4**(new_order - moc_order)\n",
    "        last_index = (npix+1)*4**(new_order - moc_order)-1\n",
    "        \n",
    "        # Resulting list of flatten cells.\n",
    "        for healpix_index in np.arange(first_index, last_index+1):\n",
    "            healpix_indices.append(healpix_index)\n",
    "            \n",
    "healpix_indices"
   ]
  },
  {
   "cell_type": "markdown",
   "id": "80dc2697",
   "metadata": {},
   "source": [
    "**Figure 2** shows the  HEALPix grid at the order = 5. In red, the selected MOC region is depicted. You can visualize the HEALPix indices: 2608, 2609, 2610, 2611 as calculated in our code.\n",
    "When the entire collection of cells in a MOC map is \n",
    "computed at the same\n",
    "order, we invoke from cds-healpix-python module the [healpix to skycoord](https://cds-astro.github.io/cds-healpix-python/stubs/cdshealpix.nested.healpix_to_skycoord.html#cdshealpix.nested.healpix_to_skycoord)\n",
    "method.\n",
    "\n",
    "This method converts HEALPix indices to celestial coordinates.\n",
    "The input is a 1-D array of HEALPix indices and the resulting celestial coordinates\n",
    "are returned in a [SkyCoord](https://docs.astropy.org/en/stable/api/astropy.coordinates.SkyCoord.html#:~:text=High%2Dlevel%20object%20providing%20a,coordinate%20values%20with%20unambiguous%20units) high-level object as defined in astropy.\n",
    "They are the sky coordinates of the center of the HEALPix cells and marked with a circle in **Figure 2**."
   ]
  },
  {
   "cell_type": "code",
   "execution_count": null,
   "id": "026b5a1d",
   "metadata": {},
   "outputs": [],
   "source": [
    "skycoords = healpix_to_skycoord(healpix_indices, new_order)\n",
    "skycoords"
   ]
  },
  {
   "cell_type": "code",
   "execution_count": null,
   "id": "0d808a79",
   "metadata": {},
   "outputs": [],
   "source": [
    "from IPython import display\n",
    "display.Image(\"https://raw.githubusercontent.com/ggreco77/Multi-Order-Coverage-data-structure-to-plan-multi-messenger-observations/main/plots/Fig2.jpg\")"
   ]
  },
  {
   "cell_type": "markdown",
   "id": "c9c61b76",
   "metadata": {},
   "source": [
    "**Figure 2.**. HEALPix grid at order = 5 with the HEALPix indices, 2608, 2609, 2610, 2611. They are the same indices as provided by our code. The sky coordinates of the center of the HEALPix cells are marked with circles. The sky coordinates are computed by the [healpix to skycoord](https://cds-astro.github.io/cds-healpix-python/stubs/cdshealpix.nested.healpix_to_skycoord.html#cdshealpix.nested.healpix_to_skycoord) method in cdshealpix."
   ]
  },
  {
   "cell_type": "markdown",
   "id": "da71d21a",
   "metadata": {},
   "source": [
    "You can interactively visualize the results with the following Aladin widget adding the HEALPix grid from the `Manage Layers` <img src=\"https://github.com/ggreco77/Tutotest/blob/main/images/ipyaladin_layer.png?raw=true\" alt=\"the Layer Button\" style=\"width:30px; display: inline-block;\"/> by checking **HEALPix grid**."
   ]
  },
  {
   "cell_type": "code",
   "execution_count": null,
   "id": "0f41d287",
   "metadata": {},
   "outputs": [],
   "source": [
    "%time\n",
    "import ipyaladin as ipyal\n",
    "aladin= ipyal.Aladin(target='13:29:59.9947023, +32:47:54.490452', fov=35)\n",
    "aladin"
   ]
  },
  {
   "cell_type": "code",
   "execution_count": null,
   "id": "9ffb2a10",
   "metadata": {},
   "outputs": [],
   "source": [
    "aladin.add_moc_from_URL('https://github.com/ggreco77/Multi-Order-Coverage-data-structure-to-plan-multi-messenger-observations/blob/main/data/TEST.fits?raw=true',\n",
    "                   {'color': 'red', 'opacity': 0.4,\n",
    "                    'adaptativeDisplay': False, 'name': 'TEST'})"
   ]
  },
  {
   "cell_type": "markdown",
   "id": "5f6725e5",
   "metadata": {},
   "source": [
    "Here, we want to define the airmass in each HEALPix index using astroplan module. In particular, we define the airmass in the Haleakala site  at 2019-04-25 14:18:05.018 UTC."
   ]
  },
  {
   "cell_type": "code",
   "execution_count": null,
   "id": "f5210364",
   "metadata": {},
   "outputs": [],
   "source": [
    "%time\n",
    "# Set Observer: Haleakala.\n",
    "haleakala = Observer.at_site (\"haleakala\")\n",
    "\n",
    "# Set observational time.\n",
    "start_time = Time('2019-04-25 12:30:00')"
   ]
  },
  {
   "cell_type": "markdown",
   "id": "622d40dd",
   "metadata": {},
   "source": [
    "Haleakala info from Observer class in astroplan."
   ]
  },
  {
   "cell_type": "code",
   "execution_count": null,
   "id": "63fd5a3b",
   "metadata": {},
   "outputs": [],
   "source": [
    "haleakala"
   ]
  },
  {
   "cell_type": "markdown",
   "id": "195c0aaf",
   "metadata": {},
   "source": [
    "Is night at Haleakala at that time? You can answer it using [is_night](https://astroplan.readthedocs.io/en/latest/api/astroplan.Observer.html#astroplan.Observer.is_night) method in astroplan and setting the astronomical twilight."
   ]
  },
  {
   "cell_type": "code",
   "execution_count": null,
   "id": "7c8440ee",
   "metadata": {},
   "outputs": [],
   "source": [
    "%time\n",
    "# Check if it is night in Haleakala at that time:\n",
    "# -18 degree horizon (evening astronomical twilight).\n",
    "night = haleakala.is_night(start_time, horizon = -18*u.deg)\n",
    "print('Is night?', night)"
   ]
  },
  {
   "cell_type": "markdown",
   "id": "ca8b2246",
   "metadata": {},
   "source": [
    "We have all the information to calculate the airmass."
   ]
  },
  {
   "cell_type": "code",
   "execution_count": null,
   "id": "7b7561da",
   "metadata": {},
   "outputs": [],
   "source": [
    "%time\n",
    "# Airmass calculation\n",
    "airmass_values = haleakala.altaz(start_time, skycoords).secz\n",
    "    \n",
    "for airmass_value, skycoord in zip(airmass_values, skycoords):\n",
    "    print(\"airmass:\", airmass_value.round(2), skycoord)\n",
    "    print()"
   ]
  },
  {
   "cell_type": "markdown",
   "id": "820fe0e7",
   "metadata": {},
   "source": [
    "Finally, we want only to select a sky area with airmass < 1.30. Thus, we create a new MOC with those sky coordinates in that airmass. We will call it **MOC observability**. \n",
    "\n",
    "It can be useful to create an astropy table with skycoords and airmass_values as columns. Then we filter the airmass_values column from 1.00 to 1.30. "
   ]
  },
  {
   "cell_type": "code",
   "execution_count": null,
   "id": "31842521",
   "metadata": {},
   "outputs": [],
   "source": [
    "%time\n",
    "# Create Astropy table.\n",
    "#from astropy.table import QTable\n",
    "\n",
    "tb = QTable([skycoords, airmass_values],\n",
    "            names = [\"skycoords\", \"airmass_values\"])\n",
    "    \n",
    "# Mask table with selected airmass values.\n",
    "mask1 = tb[\"airmass_values\"] >=1.00\n",
    "tb = tb[mask1]\n",
    "mask2 = tb[\"airmass_values\"] <=1.30\n",
    "tb = tb[mask2]\n",
    "tb"
   ]
  },
  {
   "cell_type": "markdown",
   "id": "6fc6dfc5",
   "metadata": {},
   "source": [
    "We invoke [from_skycoords](https://cds-astro.github.io/mocpy/stubs/mocpy.MOC.html#mocpy.MOC.from_skycoords) method in mocpy and write the MOC observability in an output file named **moc_observability_haleakala**."
   ]
  },
  {
   "cell_type": "code",
   "execution_count": null,
   "id": "13f4f83f",
   "metadata": {},
   "outputs": [],
   "source": [
    "# MOC from  sky coordinates \n",
    "moc_observability_haleakala = MOC.from_skycoords(tb[\"skycoords\"], new_order)\n",
    "\n",
    "# Write MOC in fits\n",
    "moc_observability_haleakala.write(\"moc_observability_haleakala\", format=\"fits\", overwrite=True)"
   ]
  },
  {
   "cell_type": "markdown",
   "id": "25203864",
   "metadata": {},
   "source": [
    "The MOC observability is shown in green in **Figure 3** over the original MOC. The HEALPix index = 2610 at order = 5 is not considered in the MOC visibility at the coordinates RA[deg] = 201.09375, DEC[deg] = 32.7971683. In fact the associated airmass value = 1.31 is outside the airmass range selected to create the MOC visibility from Haleakala."
   ]
  },
  {
   "cell_type": "code",
   "execution_count": null,
   "id": "e7cb3f00",
   "metadata": {},
   "outputs": [],
   "source": [
    "# Sky position of HEALPix index = 2610 at order = 5.\n",
    "skycoord = healpix_to_skycoord(2610, 5)\n",
    "skycoord"
   ]
  },
  {
   "cell_type": "code",
   "execution_count": null,
   "id": "00a2b7b2",
   "metadata": {},
   "outputs": [],
   "source": [
    "display.Image(\"https://raw.githubusercontent.com/ggreco77/Multi-Order-Coverage-data-structure-to-plan-multi-messenger-observations/main/plots/Fig3.jpg\")"
   ]
  },
  {
   "cell_type": "markdown",
   "id": "f23270a1",
   "metadata": {},
   "source": [
    "**Figure 3**. In green, the MOC visibility from the Haleakala site with airmass ranges from 1.00 to 1.20 over the original MOC area in red. For an interactive visualization, you can run the code below and use the Aladin widget initialized at the beginning of the tutorial."
   ]
  },
  {
   "cell_type": "code",
   "execution_count": null,
   "id": "14a77298",
   "metadata": {},
   "outputs": [],
   "source": [
    "aladin.add_moc_from_URL('https://github.com/ggreco77/Multi-Order-Coverage-data-structure-to-plan-multi-messenger-observations/raw/main/data/moc_visibility_haleakala',\n",
    "                   {'color': 'green', 'opacity': 0.7,\n",
    "                    'adaptativeDisplay': False, 'name': 'MOC visibility'})"
   ]
  },
  {
   "cell_type": "markdown",
   "id": "e7a609e4",
   "metadata": {},
   "source": [
    "## 1.2. Adding temporal information to an (Observability) MOC\n",
    "The ability to transform any spatial MOC generated from telescope footprints, image surveys, catalogues, gravitational-wave sky localizations, MOC visibility etc. into spatial and temporal MOC (STMOC) offers several interoperable approaches. In the next sections, we will discuss how to filter candidate transients.\n",
    "\n",
    "To encode temporal information in a space (observability) MOC, we apply the method [from_spatial_coverages](https://cds-astro.github.io/mocpy/stubs/mocpy.STMOC.html#mocpy.STMOC.from_spatial_coverages) in mocpy. We assume an exposure time of 10 minutes: from 2019-04-25 12:30:00 to 2019-04-25 12:40:00."
   ]
  },
  {
   "cell_type": "code",
   "execution_count": null,
   "id": "df8263cb",
   "metadata": {},
   "outputs": [],
   "source": [
    "# Create a Space and Time MOC from a space MOC.\n",
    "space_time_moc_obs = STMOC.from_spatial_coverages(Time(['2019-04-25 12:30:00']), \n",
    "                                                  Time(['2019-04-25 12:40:00']),\n",
    "                                                  [moc_observability_haleakala])\n",
    "\n",
    "# Write space and time MOC\n",
    "space_time_moc_obs.write(\"space_time_moc_obs\", overwrite=True)"
   ]
  },
  {
   "cell_type": "markdown",
   "id": "aa25b453",
   "metadata": {},
   "source": [
    "### 1.2.1. Filtering transient candidates\n",
    "\n",
    "To filter transient candidates *in space and in time* simultaneously, we use the [contains](https://cds-astro.github.io/mocpy/stubs/mocpy.MOC.html#mocpy.MOC.contains) method in mocpy. It returns a boolean mask array of the positions lying inside (or outside) the MOC instance. Good performances are obtained thanks to the core functions written in Rust programming language.  \n",
    "\n",
    "We consider two transients at the sky positions of t1: (RA[deg] = 202.49997, DEC[deg] = 32.79846) and t2 = (RA[deg] = 202.69392, DEC[deg] = 34.02011)  observed at the UTC, 2019-04-25T12:33:00 and 2019-04-25T12:50:00, respectively. Both candidate transients fall inside our MOC region but only the first one is consistent with the exposure time of that region. "
   ]
  },
  {
   "cell_type": "code",
   "execution_count": null,
   "id": "91fce829",
   "metadata": {},
   "outputs": [],
   "source": [
    "# An astropy table with the 2 transients is created.\n",
    "transient_tb = QTable()\n",
    "\n",
    "# ID candidate transients\n",
    "transient_tb['ID'] =['t1', 't2']\n",
    "\n",
    "# Transient positions\n",
    "transient_tb['ra'] = [202.49997, 202.69392]*u.deg\n",
    "transient_tb['dec'] = [ 32.79846,  34.02011]*u.deg\n",
    "\n",
    "# Transient time observations\n",
    "transient_tb['time'] = Time(['2019-04-25T12:33:00', '2019-04-25T12:50:00'])\n",
    "\n",
    "print(transient_tb)"
   ]
  },
  {
   "cell_type": "code",
   "execution_count": null,
   "id": "bbed0c3c",
   "metadata": {},
   "outputs": [],
   "source": [
    "# Filtering transients in space and time.\n",
    "space_time_moc_obs.contains(transient_tb['time'], transient_tb['ra'], transient_tb['dec'])"
   ]
  },
  {
   "cell_type": "markdown",
   "id": "fc039100",
   "metadata": {},
   "source": [
    "As expected,  the boolean mask returns **True** only for the t1 transient."
   ]
  },
  {
   "cell_type": "markdown",
   "id": "a620a305",
   "metadata": {},
   "source": [
    "# SAMP function\n",
    "\n",
    "We create a function based on SAMP (Simple Application Messaging Protocol) to visualize the MOC visibility in an Aladin section. "
   ]
  },
  {
   "cell_type": "code",
   "execution_count": null,
   "id": "5c2414cd",
   "metadata": {},
   "outputs": [],
   "source": [
    "def send_via_samp (url = \"\", filename = \"\"):\n",
    "    \"\"\" Sending MOC file over SAMP.\n",
    "    \n",
    "        Parameters\n",
    "        ----------\n",
    "        url : str\n",
    "            URL to the file.\n",
    "        \n",
    "        filename : str\n",
    "            human - readable 315 name for the MOC file.\n",
    "        \n",
    "        Returns\n",
    "        -------\n",
    "        Transmit a MOC file in tools in which SAMP Hub is running .\n",
    "    \"\"\"\n",
    "    \n",
    "    client = SAMPIntegratedClient()\n",
    "    client.connect()\n",
    "    \n",
    "    params = {}\n",
    "    params [\"url\"] = url+filename\n",
    "    params [\"name\"] = filename\n",
    "    \n",
    "    message = {}\n",
    "    message[\"samp.mtype\"] = \"image.load.fits\"\n",
    "    message[\"samp.params\"] = params\n",
    "    \n",
    "    client.notify_all(message)\n",
    "    client.disconnect()"
   ]
  },
  {
   "cell_type": "markdown",
   "id": "a829682d",
   "metadata": {},
   "source": [
    "# Create  MOC visibilities\n",
    "\n",
    "Here we describe the essential steps to delimit portions of a MOC coverage that are observable from a specific astronomical site within a  fixed time interval and a defined range of airmass values. We start with the 90% credible region of the gravitational-wave event GW190425. The credible region is encoded in a MOC data structure. In order to show the potential of MOCs to manage complex and irregular sky areas, the 90% credible region of GW190425 is prepocessed as discussed in Sections 4.2 and 4.3.\n",
    "The final MOC region is accessible from the link here. \n",
    "All steps are shown in the video tutorial focusing in the main Aladin graphical user interface. \n",
    "\n",
    "For running the code, we consider the merger time of GW190425 from the image's header."
   ]
  },
  {
   "cell_type": "code",
   "execution_count": null,
   "id": "0b7ab4e8",
   "metadata": {},
   "outputs": [],
   "source": [
    "# Download the initial (BAYESTAR)sky map of GW190425 from GraceDB.\n",
    "!curl -O https://gracedb.ligo.org/api/superevents/S190425z/files/bayestar.fits.gz,0"
   ]
  },
  {
   "cell_type": "code",
   "execution_count": null,
   "id": "90014768",
   "metadata": {},
   "outputs": [],
   "source": [
    "%time\n",
    "# Get merger time from image's header.\n",
    "import healpy as hp\n",
    "header = hp.read_map(\"bayestar.fits.gz,0\", h=True)\n",
    "\n",
    "header = dict(header[1])\n",
    "merger_time = Time(header['DATE-OBS'])\n",
    "print('The merger time is', merger_time)"
   ]
  },
  {
   "cell_type": "code",
   "execution_count": null,
   "id": "26f994fb",
   "metadata": {},
   "outputs": [],
   "source": [
    "# Define an observatory from the astroplan list\n",
    "observatory_name = 'sso'"
   ]
  },
  {
   "cell_type": "code",
   "execution_count": null,
   "id": "c5165e78",
   "metadata": {},
   "outputs": [],
   "source": [
    "%time\n",
    "# Define observatory in the astroplan Observer class\n",
    "observatory_astroplan_observer = Observer.at_site (observatory_name)"
   ]
  },
  {
   "cell_type": "code",
   "execution_count": null,
   "id": "abe6b7b3",
   "metadata": {},
   "outputs": [],
   "source": [
    "observatory_astroplan_observer"
   ]
  },
  {
   "cell_type": "code",
   "execution_count": null,
   "id": "e8a6ab2b",
   "metadata": {},
   "outputs": [],
   "source": [
    "%time\n",
    "# Check if it is night in Haleakala at the merger time:\n",
    "# -18 degree horizon (evening astronomical twilight).\n",
    "night = observatory_astroplan_observer.is_night(merger_time, horizon = -18*u.deg)"
   ]
  },
  {
   "cell_type": "code",
   "execution_count": null,
   "id": "e75856e3",
   "metadata": {},
   "outputs": [],
   "source": [
    "print('Is night @ '+observatory_name+'?', night)"
   ]
  },
  {
   "cell_type": "markdown",
   "id": "e6b20906",
   "metadata": {},
   "source": [
    "If it is night in your observatory, we set as start time the merger time of the event, otherwise, we find the nearest twilight astronomical evening. "
   ]
  },
  {
   "cell_type": "code",
   "execution_count": null,
   "id": "076c13f2",
   "metadata": {},
   "outputs": [],
   "source": [
    "%time\n",
    "if night != False:\n",
    "    start_time = merger_time\n",
    "else:\n",
    "    # Nearest twilight astronomical evening.\n",
    "    twilight_evening_astronomical = \\\n",
    "    observatory_astroplan_observer.twilight_evening_astronomical(merger_time, \n",
    "                                            which =\"nearest\")\n",
    "    start_time = twilight_evening_astronomical"
   ]
  },
  {
   "cell_type": "code",
   "execution_count": null,
   "id": "218f4fbb",
   "metadata": {},
   "outputs": [],
   "source": [
    "print('Start time for the first observation:', start_time)"
   ]
  },
  {
   "cell_type": "code",
   "execution_count": null,
   "id": "153cd165",
   "metadata": {},
   "outputs": [],
   "source": [
    "# Init. list for schedule observation\n",
    "observatory_time_obs = []"
   ]
  },
  {
   "cell_type": "code",
   "execution_count": null,
   "id": "7779e160",
   "metadata": {},
   "outputs": [],
   "source": [
    "# Set the airmass range to create the MOC visibility\n",
    "airmass_max = 2\n",
    "airmass_min = 1"
   ]
  },
  {
   "cell_type": "code",
   "execution_count": null,
   "id": "c457cc93",
   "metadata": {},
   "outputs": [],
   "source": [
    "# Load Read the MOC map processed as in Section 4.2 and 4.3.\n",
    "\n",
    "from astropy.utils.data import download_file\n",
    "processed_moc_skymap = download_file(\"https://github.com/ggreco77/MOC-to-plan-MMA/blob/main/data/processed_moc_skymap.fits?raw=true\", \n",
    "              cache=True)"
   ]
  },
  {
   "cell_type": "code",
   "execution_count": null,
   "id": "237a6810",
   "metadata": {},
   "outputs": [],
   "source": [
    "%time\n",
    "# Read the MOC map.\n",
    "moc = MOC.from_fits(processed_moc_skymap)"
   ]
  },
  {
   "cell_type": "code",
   "execution_count": null,
   "id": "a7459208",
   "metadata": {},
   "outputs": [],
   "source": [
    "%time\n",
    "# Find MOC Order\n",
    "order = moc.max_order\n",
    "print('MOC order:', order)"
   ]
  },
  {
   "cell_type": "markdown",
   "id": "48f1b13a",
   "metadata": {},
   "source": [
    "Here, we want to calculate the visibility area within the previous MOC from the specific observatory site, at a given time and setting the airmass values."
   ]
  },
  {
   "cell_type": "code",
   "execution_count": null,
   "id": "8edb5194",
   "metadata": {},
   "outputs": [],
   "source": [
    "%time\n",
    "# Serialize the MOC from fits to json/dict.\n",
    "moc_json = moc.serialize(format = \"json\")"
   ]
  },
  {
   "cell_type": "code",
   "execution_count": null,
   "id": "60766002",
   "metadata": {},
   "outputs": [],
   "source": [
    "# Init. a list of HEALPix indices.\n",
    "healpix_indices = []"
   ]
  },
  {
   "cell_type": "code",
   "execution_count": null,
   "id": "a8d817d5",
   "metadata": {},
   "outputs": [],
   "source": [
    "%%time\n",
    "# Set a MOC order. MOC order >= max order in the original MOC.\n",
    "input_order = order\n",
    "print('input_order: ', input_order)"
   ]
  },
  {
   "cell_type": "code",
   "execution_count": null,
   "id": "622fba6a",
   "metadata": {},
   "outputs": [],
   "source": [
    "%%time\n",
    "# Read MOC JSON file.\n",
    "for key, value in moc_json.items():\n",
    "    order = int(key)\n",
    "    \n",
    "    # Flatten cells.\n",
    "    for npix in value:\n",
    "        first_index = npix*4**(input_order - order)\n",
    "        last_index = (npix+1)*4**(input_order - order)-1\n",
    "        \n",
    "        # Resulting list of flatten cells.\n",
    "        for healpix_index in np.arange(first_index, last_index +1):\n",
    "            healpix_indices.append(healpix_index)"
   ]
  },
  {
   "cell_type": "code",
   "execution_count": null,
   "id": "ddfadf77",
   "metadata": {},
   "outputs": [],
   "source": [
    "%%time\n",
    "# Convert HEALPix indices to celestial coordinates.\n",
    "healpix_indices = np.array(healpix_indices)\n",
    "skycoord = healpix_to_skycoord(healpix_indices, input_order)"
   ]
  },
  {
   "cell_type": "code",
   "execution_count": null,
   "id": "546c2e89",
   "metadata": {},
   "outputs": [],
   "source": [
    "%%time\n",
    "# Constrain airmass values in time steps.\n",
    "for h in range (0, 8, 2):\n",
    "    time_step = start_time + timedelta(hours = h)\n",
    "    \n",
    "    night = observatory_astroplan_observer.is_night(time_step, horizon = -18*u.deg)    \n",
    "    print('Is night @ '+observatory_name+'?',night)\n",
    "\n",
    "    print (\"Observational Time:\", time_step.iso)\n",
    "    observatory_time_obs.append(time_step)\n",
    "    \n",
    "    # Airmass calculation\n",
    "    airmass = observatory_astroplan_observer.altaz(time_step, skycoord).secz\n",
    "    \n",
    "    # Create Astropy table.\n",
    "    tb = QTable([skycoord, airmass],\n",
    "                names = [\"skycoord\", \"airmass\"])\n",
    "    \n",
    "    # Mask table with selected airmass values.\n",
    "    mask1 = tb[\"airmass\"] >=airmass_min\n",
    "    tb = tb[mask1]\n",
    "    mask2 = tb[\"airmass\"] <=airmass_max\n",
    "    tb = tb[mask2]\n",
    "    \n",
    "    # Create an observability S-MOC and ST -MOC.\n",
    "    if len(tb)!=0:\n",
    "        # Create a Space MOC.\n",
    "        space_moc = MOC.from_skycoords(tb[\"skycoord\"], \n",
    "                                       input_order)\n",
    "\n",
    "        # Set url and output filenames.\n",
    "        url = \"file:///Users/gius/Desktop/tuto_a&c/\"\n",
    "        space_moc_filename = \"S-MOC_\"+observatory_name+\"@\"+time_step.iso\n",
    "\n",
    "        # Write Space MOC in FITS format.\n",
    "        space_moc.write(space_moc_filename, \n",
    "                        overwrite = \"true\")\n",
    "\n",
    "        # Transmit via SAMP Space MOC (we run Aladin Desktop).\n",
    "        send_via_samp(url, space_moc_filename)\n",
    "\n",
    "        # Write table with columns: SkyCoords and airmass for testing.\n",
    "        tb.write(\"Table_\"+observatory_name+\"@\"+ str(time_step.iso),\n",
    "                 format = \"fits\", overwrite = \"true\")\n",
    "    else:\n",
    "        print(\"Empty table to create Visibility MOC.\")"
   ]
  },
  {
   "cell_type": "markdown",
   "id": "40bee58d",
   "metadata": {},
   "source": [
    "Then, we repeat the same steps for Paranal and SSO observatories fixing the same starting time used in the Haleakala site."
   ]
  },
  {
   "cell_type": "markdown",
   "id": "f9395009",
   "metadata": {},
   "source": [
    "###  Interactive display in the Aladin widgets"
   ]
  },
  {
   "cell_type": "code",
   "execution_count": null,
   "id": "16de6f95",
   "metadata": {
    "scrolled": false
   },
   "outputs": [],
   "source": [
    "from ipyaladin import Aladin\n",
    "from ipywidgets import Layout, Box, widgets\n",
    "\n",
    "panel_a = Aladin(layout=Layout(width='50%'), survey='P/DSS2/color', \n",
    "           target='232.80, 16.64', fov=180)\n",
    "panel_b = Aladin(layout=Layout(width='50%'), survey='P/DSS2/color')\n",
    "panel_c = Aladin(layout=Layout(width='50%'), survey='P/DSS2/color')\n",
    "panel_d = Aladin(layout=Layout(width='50%'), survey='P/DSS2/color')\n",
    "\n",
    "# synchronize target between 4 widgets\n",
    "widgets.jslink((panel_a, 'target'), (panel_b, 'target'))\n",
    "widgets.jslink((panel_b, 'target'), (panel_c, 'target'))\n",
    "widgets.jslink((panel_c, 'target'), (panel_d, 'target'))\n",
    "\n",
    "# synchronize FoV (zoom level) between 4 widgets.\n",
    "widgets.jslink((panel_a, 'fov'), (panel_b, 'fov'))\n",
    "widgets.jslink((panel_b, 'fov'), (panel_c, 'fov'))\n",
    "widgets.jslink((panel_c, 'fov'), (panel_d, 'fov'))\n",
    "\n",
    "items = [panel_a, panel_b, panel_c, panel_d]\n",
    "\n",
    "box_layout = Layout(display='flex',\n",
    "                    flex_flow='row wrap',\n",
    "                    align_items='stretch',\n",
    "                    border='solid',\n",
    "                    width='100%')\n",
    "\n",
    "box = Box(children=items, layout=box_layout)\n",
    "box"
   ]
  },
  {
   "cell_type": "code",
   "execution_count": null,
   "id": "a7c669d3",
   "metadata": {},
   "outputs": [],
   "source": [
    "# Show the MOC visibilities in the Aladin widgets.\n",
    "import ipyaladin as ipyal\n",
    "\n",
    "moc_visibilities = ['S-MOC_Haleakala@2019-04-25 08:18:05.018',\n",
    "                    'S-MOC_Haleakala@2019-04-25 10:18:05.018',\n",
    "                    'S-MOC_Haleakala@2019-04-25 12:18:05.018',\n",
    "                    'S-MOC_Haleakala@2019-04-25 14:18:05.018']\n",
    "\n",
    "panel_a.add_moc_from_URL(moc_visibilities[0],\n",
    "                   {'color': 'green', 'opacity': 0.7,\n",
    "                    'adaptativeDisplay': False, 'name': moc_visibilities[0]})\n",
    "\n",
    "panel_b.add_moc_from_URL(moc_visibilities[1],\n",
    "                   {'color': 'green', 'opacity': 0.7,\n",
    "                    'adaptativeDisplay': False, 'name': moc_visibilities[1]})\n",
    "\n",
    "panel_c.add_moc_from_URL(moc_visibilities[2],\n",
    "                   {'color': 'green', 'opacity': 0.7,\n",
    "                    'adaptativeDisplay': False, 'name': moc_visibilities[2]})\n",
    "\n",
    "panel_d.add_moc_from_URL(moc_visibilities[3],\n",
    "                   {'color': 'green', 'opacity': 0.7,\n",
    "                    'adaptativeDisplay': False, 'name': moc_visibilities[3]})"
   ]
  },
  {
   "cell_type": "markdown",
   "id": "5044ee3d",
   "metadata": {},
   "source": [
    "Scroll up and visualize the credible region contours in the interactive Aladin widgets. From the `Manage Layers` <img src=\"https://github.com/ggreco77/Tutotest/blob/main/images/ipyaladin_layer.png?raw=true\" alt=\"the Layer Button\" style=\"width:30px; display: inline-block;\"/> the credible regions can be independently selected. \n",
    "If you hover the mouse pointer over a credible region plan a message will be displayed above it to show the coverage in sky percentage."
   ]
  },
  {
   "cell_type": "code",
   "execution_count": null,
   "id": "7ac4a283",
   "metadata": {},
   "outputs": [],
   "source": []
  }
 ],
 "metadata": {
  "kernelspec": {
   "display_name": "Python 3",
   "language": "python",
   "name": "python3"
  },
  "language_info": {
   "codemirror_mode": {
    "name": "ipython",
    "version": 3
   },
   "file_extension": ".py",
   "mimetype": "text/x-python",
   "name": "python",
   "nbconvert_exporter": "python",
   "pygments_lexer": "ipython3",
   "version": "3.8.5"
  }
 },
 "nbformat": 4,
 "nbformat_minor": 5
}
